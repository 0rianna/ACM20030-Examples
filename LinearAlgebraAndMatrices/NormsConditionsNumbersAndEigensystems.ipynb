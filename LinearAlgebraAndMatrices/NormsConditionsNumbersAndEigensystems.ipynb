{
 "cells": [
  {
   "cell_type": "markdown",
   "metadata": {},
   "source": [
    "# Norms, conditions numbers and Eigensystems\n",
    "\n",
    "In linear-algebra calculations, we are sometimes very unfortunate and have to solve a problem like $Ax = b$ (given fixed $A$), where small changes in $b$ produce extremely large changes in $x$. Such problems are said to be **ill-conditioned**.\n",
    "\n",
    "This notebook explores this phenomenon. Along the way we will have to calculate condition numbers and eigenvalues."
   ]
  },
  {
   "cell_type": "markdown",
   "metadata": {},
   "source": [
    "## Preliminaries\n",
    "\n",
    "Let's load numpy as usual, and the linear algebra package from numpy as we will find some functions in it useful. We also use the `GaussianElimination()` from one of the other notebooks and define the $L_2$-norm"
   ]
  },
  {
   "cell_type": "code",
   "execution_count": 55,
   "metadata": {},
   "outputs": [],
   "source": [
    "import numpy as np\n",
    "from numpy import linalg as la"
   ]
  },
  {
   "cell_type": "code",
   "execution_count": 56,
   "metadata": {},
   "outputs": [],
   "source": [
    "def GaussianElimination(A, b):\n",
    "    n = A.shape[1]\n",
    "    \n",
    "    # Append the vector b as a column to the matrix A\n",
    "    A1 = np.c_[A,b]\n",
    "    \n",
    "    i = 0\n",
    "    while i < n - 1:\n",
    "        j = i+1\n",
    "        while j < n:\n",
    "            A1[j, i+1:] = A1[j, i+1:] - A1[i, i+1:]*A1[j,i]/A1[i,i]\n",
    "            j += 1\n",
    "        i += 1\n",
    "        \n",
    "    x = np.zeros(n)\n",
    "    \n",
    "    i = n-1\n",
    "    while i >= 0:\n",
    "        j = i\n",
    "        x[i] = A1[i,n]\n",
    "        while j < n-1:\n",
    "            x[i] -= A1[i,j+1]*x[j+1]\n",
    "            j += 1\n",
    "        x[i] = x[i]/A1[i,i]\n",
    "        i -= 1\n",
    "    \n",
    "    return x"
   ]
  },
  {
   "cell_type": "code",
   "execution_count": 73,
   "metadata": {},
   "outputs": [],
   "source": [
    "def MatrixInverseViaGaussianElimination(A):\n",
    "    n = A.shape[1]\n",
    "    \n",
    "    A1 = np.hstack((A,np.identity(n)))\n",
    "    \n",
    "    i = 0\n",
    "    while i < n:\n",
    "        j = 0\n",
    "        while j < n:\n",
    "            if(j == i): \n",
    "                j += 1\n",
    "                continue\n",
    "            A1[j] = (A1[j] - A1[i]*A1[j,i]/A1[i,i])\n",
    "            A1[j] = A1[j]/A1[j,j]\n",
    "            j += 1\n",
    "        i += 1\n",
    "    \n",
    "    return A1[:,n:2*n]"
   ]
  },
  {
   "cell_type": "code",
   "execution_count": 57,
   "metadata": {},
   "outputs": [],
   "source": [
    "def L2Norm(v):\n",
    "    return la.norm(v)"
   ]
  },
  {
   "cell_type": "markdown",
   "metadata": {},
   "source": [
    "## Example case\n",
    "\n",
    "Let's look at an example where the matrix $A$ is ill-conditioned"
   ]
  },
  {
   "cell_type": "code",
   "execution_count": 58,
   "metadata": {},
   "outputs": [
    {
     "name": "stdout",
     "output_type": "stream",
     "text": [
      "[1. 1.]\n"
     ]
    }
   ],
   "source": [
    "A = np.array([[1.002,1],[1,0.998]])\n",
    "b = np.array([2.002,1.998])\n",
    "\n",
    "x = GaussianElimination(A,b)\n",
    "print(x)"
   ]
  },
  {
   "cell_type": "markdown",
   "metadata": {},
   "source": [
    "Slightly perturbing $b$ causes a huge change in the value of $x$"
   ]
  },
  {
   "cell_type": "code",
   "execution_count": 60,
   "metadata": {},
   "outputs": [
    {
     "name": "stdout",
     "output_type": "stream",
     "text": [
      "[-23.95  26.  ]\n"
     ]
    }
   ],
   "source": [
    "bp = np.array([2.0021,1.998])\n",
    "\n",
    "xp = GaussianElimination(A,bp)\n",
    "print(xp)"
   ]
  },
  {
   "cell_type": "code",
   "execution_count": 61,
   "metadata": {},
   "outputs": [
    {
     "name": "stdout",
     "output_type": "stream",
     "text": [
      "Change in b = 0.0035%\n",
      "Change in x = 2497.50%\n"
     ]
    }
   ],
   "source": [
    "print(\"Change in b = %.4f%%\" % (100*L2Norm(bp-b)/L2Norm(b)))\n",
    "print(\"Change in x = %.2f%%\" % (100*L2Norm(xp-x)/L2Norm(x)))"
   ]
  },
  {
   "cell_type": "markdown",
   "metadata": {},
   "source": [
    "## Maximum eigenvalue via the power method\n",
    "\n",
    "Also check out this [nice video](https://www.youtube.com/watch?v=yBiQh1vsCLU) showing the method in action"
   ]
  },
  {
   "cell_type": "code",
   "execution_count": 148,
   "metadata": {},
   "outputs": [
    {
     "data": {
      "text/plain": [
       "(array([  3., -12.,  -3.]), array([[ 0.57735027, -0.33333333,  0.40824829],\n",
       "        [-0.57735027, -0.66666667,  0.81649658],\n",
       "        [ 0.57735027,  0.66666667,  0.40824829]]))"
      ]
     },
     "execution_count": 148,
     "metadata": {},
     "output_type": "execute_result"
    }
   ],
   "source": [
    "A = np.array([[-2,-2,3.],[-10,-1,6],[10,-2,-9]])\n",
    "\n",
    "la.eig(A)"
   ]
  },
  {
   "cell_type": "code",
   "execution_count": 214,
   "metadata": {},
   "outputs": [],
   "source": [
    "def MaxEigenvalue(A, err):\n",
    "    x = np.random.rand(3)\n",
    "    \n",
    "    n = 0.1\n",
    "    nprev = 1\n",
    "    while np.abs(1-n/nprev) > err:\n",
    "        p = np.dot(A,x)\n",
    "        nprev = n\n",
    "        n = np.max(p)\n",
    "        x = p/n\n",
    "        \n",
    "    return n"
   ]
  },
  {
   "cell_type": "code",
   "execution_count": 221,
   "metadata": {},
   "outputs": [
    {
     "data": {
      "text/plain": [
       "12.000000009430828"
      ]
     },
     "execution_count": 221,
     "metadata": {},
     "output_type": "execute_result"
    }
   ],
   "source": [
    "MaxEigenvalue(A, 1e-8)"
   ]
  },
  {
   "cell_type": "code",
   "execution_count": null,
   "metadata": {},
   "outputs": [],
   "source": []
  }
 ],
 "metadata": {
  "kernelspec": {
   "display_name": "Python 3",
   "language": "python",
   "name": "python3"
  },
  "language_info": {
   "codemirror_mode": {
    "name": "ipython",
    "version": 3
   },
   "file_extension": ".py",
   "mimetype": "text/x-python",
   "name": "python",
   "nbconvert_exporter": "python",
   "pygments_lexer": "ipython3",
   "version": "3.7.5"
  }
 },
 "nbformat": 4,
 "nbformat_minor": 2
}
