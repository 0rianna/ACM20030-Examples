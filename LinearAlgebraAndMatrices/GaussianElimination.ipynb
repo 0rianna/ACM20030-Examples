{
 "cells": [
  {
   "cell_type": "markdown",
   "metadata": {},
   "source": [
    "# Gaussian Elimination\n",
    "\n",
    "We want to solve systems of equations of the form \n",
    "\n",
    "$$A x = b$$\n",
    "\n",
    "where $A$ is an $n\\times n$ matrix of known values, $b$ is a vector of length $n$ of known values and $x$ is a vector of length $n$ of unknown values.\n",
    "\n",
    "We can solve this problem by expliciting finding the inverse matrix, $A^{-1}$. We saw in the lectures that if we use the matrix of cofactors method this is very inefficient, as the number of operations required grows as $n!$.\n",
    "\n",
    "A more efficient method is Gaussian elimination. This notebook implements a version of this algorithm. The code below work on any sized matrix."
   ]
  },
  {
   "cell_type": "code",
   "execution_count": 358,
   "metadata": {},
   "outputs": [],
   "source": [
    "import numpy as np"
   ]
  },
  {
   "cell_type": "code",
   "execution_count": 359,
   "metadata": {},
   "outputs": [],
   "source": [
    "def GaussianElimination(A, b, verboseLevel=0):\n",
    "    n = A.shape[1]\n",
    "    \n",
    "    # Append the vector b as a column to the matrix A\n",
    "    A1 = np.c_[A,b]\n",
    "    \n",
    "    if(verboseLevel >=1): print(\"A1 matrix =\\n\", A1, \"\\n\")\n",
    "\n",
    "    i = 0\n",
    "    while i < n - 1:\n",
    "        j = i+1\n",
    "        while j < n:\n",
    "            tmp = A1[i]*A1[j,i]/A1[i,i]\n",
    "            if(verboseLevel >= 2): print(\"Row to subtract from a_%d\" %j,\"=\", tmp)\n",
    "            A1[j] = A1[j] - tmp\n",
    "            j += 1\n",
    "            \n",
    "        if(verboseLevel >= 1): print(\"\\nNew A1 matrix =\\n\", A1, \"\\n\")\n",
    "        i += 1\n",
    "        \n",
    "    # The matrix is now in upper-triangular form\n",
    "    # Now we back substitute to find x\n",
    "    \n",
    "    x = np.zeros(n)\n",
    "    \n",
    "    i = n-1\n",
    "    while i >= 0:\n",
    "        j = i\n",
    "        x[i] = A1[i,n]\n",
    "        while j < n-1:\n",
    "            x[i] -= A1[i,j+1]*x[j+1]\n",
    "            j += 1\n",
    "        x[i] = x[i]/A1[i,i]\n",
    "        i -= 1\n",
    "    \n",
    "    return x"
   ]
  },
  {
   "cell_type": "markdown",
   "metadata": {},
   "source": [
    "Let's first test the code on a $3\\times 3$ matrix. I found testing on a small matrix like this was very useful to debug the code (it takes a while to get all the indexing correct)."
   ]
  },
  {
   "cell_type": "code",
   "execution_count": 360,
   "metadata": {},
   "outputs": [
    {
     "name": "stdout",
     "output_type": "stream",
     "text": [
      "A =\n",
      " [[1. 2. 3.]\n",
      " [5. 6. 7.]\n",
      " [1. 4. 5.]]\n",
      "\n",
      "b = [3 4 5]\n"
     ]
    }
   ],
   "source": [
    "# Define a matrix A, and a vector b\n",
    "A = np.array([[1, 2, 3], [5, 6, 7], [1, 4, 5]], dtype='float')\n",
    "b = np.array([3, 4 , 5])\n",
    "\n",
    "# print out A and b (notice that '\\n' creates a new line)\n",
    "print(\"A =\\n\", A)\n",
    "print(\"\\nb =\", b)"
   ]
  },
  {
   "cell_type": "markdown",
   "metadata": {},
   "source": [
    "The final argument to `GassianElimination()` is the `verboseLevel`. By default this is `0`. For higher values the code outputs more information about the steps it is taking."
   ]
  },
  {
   "cell_type": "code",
   "execution_count": 361,
   "metadata": {},
   "outputs": [
    {
     "name": "stdout",
     "output_type": "stream",
     "text": [
      "A1 matrix =\n",
      " [[1. 2. 3. 3.]\n",
      " [5. 6. 7. 4.]\n",
      " [1. 4. 5. 5.]] \n",
      "\n",
      "Row to subtract from a_1 = [ 5. 10. 15. 15.]\n",
      "Row to subtract from a_2 = [1. 2. 3. 3.]\n",
      "\n",
      "New A1 matrix =\n",
      " [[  1.   2.   3.   3.]\n",
      " [  0.  -4.  -8. -11.]\n",
      " [  0.   2.   2.   2.]] \n",
      "\n",
      "Row to subtract from a_2 = [-0.   2.   4.   5.5]\n",
      "\n",
      "New A1 matrix =\n",
      " [[  1.    2.    3.    3. ]\n",
      " [  0.   -4.   -8.  -11. ]\n",
      " [  0.    0.   -2.   -3.5]] \n",
      "\n"
     ]
    },
    {
     "data": {
      "text/plain": [
       "array([-0.75, -0.75,  1.75])"
      ]
     },
     "execution_count": 361,
     "metadata": {},
     "output_type": "execute_result"
    }
   ],
   "source": [
    "GaussianElimination(A, b, 2)"
   ]
  },
  {
   "cell_type": "markdown",
   "metadata": {},
   "source": [
    "The `GaussianElimination()` function works for any size of matrix. Let's test it on a larger one."
   ]
  },
  {
   "cell_type": "code",
   "execution_count": null,
   "metadata": {},
   "outputs": [],
   "source": []
  }
 ],
 "metadata": {
  "kernelspec": {
   "display_name": "Python 3",
   "language": "python",
   "name": "python3"
  },
  "language_info": {
   "codemirror_mode": {
    "name": "ipython",
    "version": 3
   },
   "file_extension": ".py",
   "mimetype": "text/x-python",
   "name": "python",
   "nbconvert_exporter": "python",
   "pygments_lexer": "ipython3",
   "version": "3.7.5"
  }
 },
 "nbformat": 4,
 "nbformat_minor": 2
}
