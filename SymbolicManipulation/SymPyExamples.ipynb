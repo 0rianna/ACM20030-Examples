{
 "cells": [
  {
   "cell_type": "markdown",
   "metadata": {},
   "source": [
    "# Examples of  how to use SymPy\n",
    "\n",
    "SymPy is a Python package for symbolic manipulation. In this notebook we look at a few examples of useful operations, such as differentiation, integration, simplification and solving polynomials.\n",
    "\n",
    "SymPy suppports many more operations. The documentation can be found at: https://docs.sympy.org/latest/index.html"
   ]
  },
  {
   "cell_type": "code",
   "execution_count": 3,
   "metadata": {},
   "outputs": [],
   "source": [
    "from sympy import *"
   ]
  },
  {
   "cell_type": "markdown",
   "metadata": {},
   "source": [
    "You have to tell SymPy which variables are to be treated as symbols. In this notebook we'll make `x`, `y` and `z` symbols."
   ]
  },
  {
   "cell_type": "code",
   "execution_count": 4,
   "metadata": {},
   "outputs": [],
   "source": [
    "x, y, z = symbols('x y z')"
   ]
  },
  {
   "cell_type": "markdown",
   "metadata": {},
   "source": [
    "## Defining equations and displaying them\n",
    "\n",
    "We can now write expressions, and assign them to a variable."
   ]
  },
  {
   "cell_type": "code",
   "execution_count": 5,
   "metadata": {},
   "outputs": [
    {
     "data": {
      "text/latex": [
       "$\\displaystyle \\frac{x^{2} + x}{x \\sin^{2}{\\left(y \\right)} + x \\cos^{2}{\\left(y \\right)}}$"
      ],
      "text/plain": [
       "(x**2 + x)/(x*sin(y)**2 + x*cos(y)**2)"
      ]
     },
     "execution_count": 5,
     "metadata": {},
     "output_type": "execute_result"
    }
   ],
   "source": [
    "a = (x + x**2)/(x*sin(y)**2 + x*cos(y)**2)\n",
    "a"
   ]
  },
  {
   "cell_type": "code",
   "execution_count": 6,
   "metadata": {},
   "outputs": [
    {
     "data": {
      "text/latex": [
       "$\\displaystyle x^{2} + 1$"
      ],
      "text/plain": [
       "x**2 + 1"
      ]
     },
     "execution_count": 6,
     "metadata": {},
     "output_type": "execute_result"
    }
   ],
   "source": [
    "b = x**2 + 1\n",
    "b"
   ]
  },
  {
   "cell_type": "markdown",
   "metadata": {},
   "source": [
    "Simple simplifications are automatically applied"
   ]
  },
  {
   "cell_type": "code",
   "execution_count": 7,
   "metadata": {},
   "outputs": [
    {
     "data": {
      "text/latex": [
       "$\\displaystyle x^{2}$"
      ],
      "text/plain": [
       "x**2"
      ]
     },
     "execution_count": 7,
     "metadata": {},
     "output_type": "execute_result"
    }
   ],
   "source": [
    "b - 1"
   ]
  },
  {
   "cell_type": "markdown",
   "metadata": {},
   "source": [
    "If you define multiple expressions in a cell you can display them with the `display()` command"
   ]
  },
  {
   "cell_type": "code",
   "execution_count": 8,
   "metadata": {},
   "outputs": [
    {
     "data": {
      "text/latex": [
       "$\\displaystyle x^{2} + x$"
      ],
      "text/plain": [
       "x**2 + x"
      ]
     },
     "metadata": {},
     "output_type": "display_data"
    },
    {
     "data": {
      "text/latex": [
       "$\\displaystyle 2 x + 3$"
      ],
      "text/plain": [
       "2*x + 3"
      ]
     },
     "metadata": {},
     "output_type": "display_data"
    },
    {
     "data": {
      "text/latex": [
       "$\\displaystyle x^{2} + 3 x + 3$"
      ],
      "text/plain": [
       "x**2 + 3*x + 3"
      ]
     },
     "metadata": {},
     "output_type": "display_data"
    }
   ],
   "source": [
    "a = x**2 + x\n",
    "display(a)\n",
    "\n",
    "b = 2*x + 3\n",
    "display(b)\n",
    "\n",
    "display(a+b)"
   ]
  },
  {
   "cell_type": "markdown",
   "metadata": {},
   "source": [
    "## Simplification\n",
    "\n",
    "In simple cases SymPy will automatically simplify. More complicated expressions can simplified using the `simplify()` command"
   ]
  },
  {
   "cell_type": "code",
   "execution_count": 9,
   "metadata": {},
   "outputs": [
    {
     "data": {
      "text/latex": [
       "$\\displaystyle \\frac{x + 3}{x - 9}$"
      ],
      "text/plain": [
       "(x + 3)/(x - 9)"
      ]
     },
     "metadata": {},
     "output_type": "display_data"
    },
    {
     "data": {
      "text/latex": [
       "$\\displaystyle \\frac{x^{2} + x - 6}{x^{2} - 11 x + 18}$"
      ],
      "text/plain": [
       "(x**2 + x - 6)/(x**2 - 11*x + 18)"
      ]
     },
     "metadata": {},
     "output_type": "display_data"
    },
    {
     "data": {
      "text/latex": [
       "$\\displaystyle \\frac{x + 3}{x - 9}$"
      ],
      "text/plain": [
       "(x + 3)/(x - 9)"
      ]
     },
     "execution_count": 9,
     "metadata": {},
     "output_type": "execute_result"
    }
   ],
   "source": [
    "a = (x-2)*(x+3)/((x-2)*(x-9))\n",
    "display(a)\n",
    "\n",
    "a = (x**2 +x -6)/(x**2 - 11*x+18)\n",
    "display(a)\n",
    "simplify(a)"
   ]
  },
  {
   "cell_type": "markdown",
   "metadata": {},
   "source": [
    "`simplify()` will also use trigonometric identities"
   ]
  },
  {
   "cell_type": "code",
   "execution_count": 10,
   "metadata": {},
   "outputs": [
    {
     "data": {
      "text/latex": [
       "$\\displaystyle \\frac{x^{2} + x}{x \\sin^{2}{\\left(y \\right)} + x \\cos^{2}{\\left(y \\right)}}$"
      ],
      "text/plain": [
       "(x**2 + x)/(x*sin(y)**2 + x*cos(y)**2)"
      ]
     },
     "metadata": {},
     "output_type": "display_data"
    },
    {
     "data": {
      "text/latex": [
       "$\\displaystyle x + 1$"
      ],
      "text/plain": [
       "x + 1"
      ]
     },
     "metadata": {},
     "output_type": "display_data"
    }
   ],
   "source": [
    "a = (x + x**2)/(x*sin(y)**2 + x*cos(y)**2)\n",
    "display(a)\n",
    "display(simplify(a))"
   ]
  },
  {
   "cell_type": "markdown",
   "metadata": {},
   "source": [
    "## Differentiation\n",
    "Expressions can be differentiated using the `diff()` command. The first argument is the expression and the second argument is the variable you want to differential with respect too."
   ]
  },
  {
   "cell_type": "code",
   "execution_count": 11,
   "metadata": {},
   "outputs": [
    {
     "data": {
      "text/latex": [
       "$\\displaystyle 2 x + 3$"
      ],
      "text/plain": [
       "2*x + 3"
      ]
     },
     "metadata": {},
     "output_type": "display_data"
    },
    {
     "data": {
      "text/latex": [
       "$\\displaystyle 8 y$"
      ],
      "text/plain": [
       "8*y"
      ]
     },
     "metadata": {},
     "output_type": "display_data"
    }
   ],
   "source": [
    "a = x**2 + 3*x + 4*y**2\n",
    "display(diff(a,x))\n",
    "display(diff(a,y))"
   ]
  },
  {
   "cell_type": "markdown",
   "metadata": {},
   "source": [
    "You can also use trigonometric functions, such as `sin()`, `cos()`, `sinh()`, and their inverses `asin()`, `acos()`, `asinh()` etc"
   ]
  },
  {
   "cell_type": "code",
   "execution_count": 13,
   "metadata": {},
   "outputs": [
    {
     "data": {
      "text/latex": [
       "$\\displaystyle \\frac{1}{\\sqrt{x^{2} + 1}}$"
      ],
      "text/plain": [
       "1/sqrt(x**2 + 1)"
      ]
     },
     "execution_count": 13,
     "metadata": {},
     "output_type": "execute_result"
    }
   ],
   "source": [
    "diff(asinh(x),x)"
   ]
  },
  {
   "cell_type": "markdown",
   "metadata": {},
   "source": [
    "It's easy to get complicated expressions. It is often useful to simplify the result."
   ]
  },
  {
   "cell_type": "code",
   "execution_count": 14,
   "metadata": {},
   "outputs": [
    {
     "data": {
      "text/latex": [
       "$\\displaystyle \\frac{\\left(11 - 2 x\\right) \\left(x^{2} + x - 6\\right)}{\\left(x^{2} - 11 x + 18\\right)^{2}} + \\frac{2 x + 1}{x^{2} - 11 x + 18}$"
      ],
      "text/plain": [
       "(11 - 2*x)*(x**2 + x - 6)/(x**2 - 11*x + 18)**2 + (2*x + 1)/(x**2 - 11*x + 18)"
      ]
     },
     "metadata": {},
     "output_type": "display_data"
    },
    {
     "data": {
      "text/latex": [
       "$\\displaystyle - \\frac{12}{x^{2} - 18 x + 81}$"
      ],
      "text/plain": [
       "-12/(x**2 - 18*x + 81)"
      ]
     },
     "metadata": {},
     "output_type": "display_data"
    }
   ],
   "source": [
    "res = diff((x**2 +x -6)/(x**2 - 11*x+18))\n",
    "display(res)\n",
    "display(simplify(res))"
   ]
  },
  {
   "cell_type": "markdown",
   "metadata": {},
   "source": [
    "## Integration\n",
    "\n",
    "You can also integrate using the `integrate()` command."
   ]
  },
  {
   "cell_type": "code",
   "execution_count": 15,
   "metadata": {
    "scrolled": false
   },
   "outputs": [
    {
     "data": {
      "text/latex": [
       "$\\displaystyle \\frac{x}{x^{2} + 2 x + 1}$"
      ],
      "text/plain": [
       "x/(x**2 + 2*x + 1)"
      ]
     },
     "metadata": {},
     "output_type": "display_data"
    },
    {
     "data": {
      "text/latex": [
       "$\\displaystyle \\log{\\left(x + 1 \\right)} + \\frac{1}{x + 1}$"
      ],
      "text/plain": [
       "log(x + 1) + 1/(x + 1)"
      ]
     },
     "execution_count": 15,
     "metadata": {},
     "output_type": "execute_result"
    }
   ],
   "source": [
    "a = x/(x**2+2*x+1)\n",
    "display(a)\n",
    "\n",
    "integrate(a, x)"
   ]
  },
  {
   "cell_type": "markdown",
   "metadata": {},
   "source": [
    "You can also do definite integration:"
   ]
  },
  {
   "cell_type": "code",
   "execution_count": 24,
   "metadata": {},
   "outputs": [
    {
     "data": {
      "text/latex": [
       "$\\displaystyle 1 - \\cos{\\left(3 \\right)}$"
      ],
      "text/plain": [
       "1 - cos(3)"
      ]
     },
     "metadata": {},
     "output_type": "display_data"
    }
   ],
   "source": [
    "b = integrate(sin(x), (x,0,3))\n",
    "display(b)"
   ]
  },
  {
   "cell_type": "markdown",
   "metadata": {},
   "source": [
    "SymPy will give the exact result. You can numerically evaluate it using `N()`. You can pass a second argument for the precision you wish to evaluate the result to."
   ]
  },
  {
   "cell_type": "code",
   "execution_count": 30,
   "metadata": {},
   "outputs": [
    {
     "data": {
      "text/latex": [
       "$\\displaystyle 1.98999249660045$"
      ],
      "text/plain": [
       "1.98999249660045"
      ]
     },
     "metadata": {},
     "output_type": "display_data"
    },
    {
     "data": {
      "text/latex": [
       "$\\displaystyle 1.9899924966004454572715727947312613023936790966156$"
      ],
      "text/plain": [
       "1.9899924966004454572715727947312613023936790966156"
      ]
     },
     "metadata": {},
     "output_type": "display_data"
    }
   ],
   "source": [
    "display(N(b))\n",
    "display(N(b, 50))"
   ]
  },
  {
   "cell_type": "markdown",
   "metadata": {},
   "source": [
    "If SymPy is not sure how to perform the integral it will just return it an unevaluated expression:"
   ]
  },
  {
   "cell_type": "code",
   "execution_count": 21,
   "metadata": {},
   "outputs": [
    {
     "data": {
      "text/latex": [
       "$\\displaystyle \\int\\limits_{1}^{5} \\frac{\\cos{\\left(x \\right)}}{x^{2} + 1}\\, dx$"
      ],
      "text/plain": [
       "Integral(cos(x)/(x**2 + 1), (x, 1, 5))"
      ]
     },
     "execution_count": 21,
     "metadata": {},
     "output_type": "execute_result"
    }
   ],
   "source": [
    "integrate(cos(x)/(x**2+1),(x,1,5))"
   ]
  },
  {
   "cell_type": "markdown",
   "metadata": {},
   "source": [
    "## Solving equations\n",
    "\n",
    "SymPy can also solve some equations, such as polynomials."
   ]
  },
  {
   "cell_type": "code",
   "execution_count": 16,
   "metadata": {},
   "outputs": [
    {
     "data": {
      "text/latex": [
       "$\\displaystyle \\left\\{-3, 2\\right\\}$"
      ],
      "text/plain": [
       "FiniteSet(-3, 2)"
      ]
     },
     "execution_count": 16,
     "metadata": {},
     "output_type": "execute_result"
    }
   ],
   "source": [
    "solveset((x-2)*(x+3), x)"
   ]
  },
  {
   "cell_type": "code",
   "execution_count": 17,
   "metadata": {
    "scrolled": false
   },
   "outputs": [
    {
     "data": {
      "text/latex": [
       "$\\displaystyle \\left\\{- \\frac{1}{2} + \\frac{\\sqrt{5}}{2}, - \\frac{\\sqrt{5}}{2} - \\frac{1}{2}\\right\\}$"
      ],
      "text/plain": [
       "FiniteSet(-1/2 + sqrt(5)/2, -sqrt(5)/2 - 1/2)"
      ]
     },
     "execution_count": 17,
     "metadata": {},
     "output_type": "execute_result"
    }
   ],
   "source": [
    "solveset(x**2 +x -1, x)"
   ]
  },
  {
   "cell_type": "code",
   "execution_count": null,
   "metadata": {},
   "outputs": [],
   "source": []
  }
 ],
 "metadata": {
  "kernelspec": {
   "display_name": "Python 3",
   "language": "python",
   "name": "python3"
  },
  "language_info": {
   "codemirror_mode": {
    "name": "ipython",
    "version": 3
   },
   "file_extension": ".py",
   "mimetype": "text/x-python",
   "name": "python",
   "nbconvert_exporter": "python",
   "pygments_lexer": "ipython3",
   "version": "3.7.5"
  }
 },
 "nbformat": 4,
 "nbformat_minor": 2
}
