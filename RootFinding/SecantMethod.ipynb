{
 "cells": [
  {
   "cell_type": "markdown",
   "metadata": {},
   "source": [
    "# Root finding: Secant method\n",
    "\n",
    "The secant method is useful when you don't want to evaluate the derivative of the function to find a root (as is required by the Newton-Raphson method).\n",
    "\n",
    "The method converges as $[1+\\sqrt(5)]/2 \\approx 1.618$ (this is the golden ratio). This is faster than the bisection method (which converges linearly), but slower than the Newton-Raphson method (which converges quadratically)."
   ]
  },
  {
   "cell_type": "code",
   "execution_count": 15,
   "metadata": {},
   "outputs": [],
   "source": [
    "import numpy as np"
   ]
  },
  {
   "cell_type": "code",
   "execution_count": 44,
   "metadata": {},
   "outputs": [],
   "source": [
    "def FindRootSecant(f, x0, x1, N, printSteps = False):\n",
    "    i = 0\n",
    "    xim1 = x0\n",
    "    xi   = x1\n",
    "    while i < N:\n",
    "        # Once we converge to very close to the root the denominator \n",
    "        # becomes very small which can lead to errors\n",
    "        if(np.abs(f(xi) - f(xim1)) < 1e-16 ):\n",
    "            break\n",
    "            \n",
    "        # Compute the next step using the Secant method formula\n",
    "        # Note: the method can be made more efficient by storing the\n",
    "        # previous values of f(xi)\n",
    "        fi = f(xi)\n",
    "        xi1  = xi - fi*(xi - xim1)/(fi - f(xim1))\n",
    "        \n",
    "        if(printSteps):\n",
    "            print(xi1)\n",
    "        \n",
    "        # Update the last two steps\n",
    "        xim1 = xi\n",
    "        xi = xi1\n",
    "        \n",
    "        i += 1\n",
    "\n",
    "    return xi1"
   ]
  },
  {
   "cell_type": "code",
   "execution_count": 45,
   "metadata": {},
   "outputs": [],
   "source": [
    "def f(x):\n",
    "    return (x-2)*(x+3)"
   ]
  },
  {
   "cell_type": "code",
   "execution_count": 46,
   "metadata": {},
   "outputs": [
    {
     "name": "stdout",
     "output_type": "stream",
     "text": [
      "2.027906976744186\n",
      "1.9975879396984924\n",
      "1.999986605635493\n",
      "2.000000006464739\n",
      "1.9999999999999827\n",
      "2.0\n",
      "2.0\n"
     ]
    },
    {
     "data": {
      "text/plain": [
       "2.0"
      ]
     },
     "execution_count": 46,
     "metadata": {},
     "output_type": "execute_result"
    }
   ],
   "source": [
    "FindRootSecant(f, 1.7, 1.6, 10, True)"
   ]
  },
  {
   "cell_type": "code",
   "execution_count": null,
   "metadata": {},
   "outputs": [],
   "source": []
  }
 ],
 "metadata": {
  "kernelspec": {
   "display_name": "Python 3",
   "language": "python",
   "name": "python3"
  },
  "language_info": {
   "codemirror_mode": {
    "name": "ipython",
    "version": 3
   },
   "file_extension": ".py",
   "mimetype": "text/x-python",
   "name": "python",
   "nbconvert_exporter": "python",
   "pygments_lexer": "ipython3",
   "version": "3.7.5"
  }
 },
 "nbformat": 4,
 "nbformat_minor": 2
}
